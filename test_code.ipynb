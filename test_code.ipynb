{
 "cells": [
  {
   "cell_type": "markdown",
   "metadata": {},
   "source": [
    "# Title of my code\n",
    "## Abby Schiff\n",
    "* description"
   ]
  },
  {
   "cell_type": "code",
   "execution_count": 17,
   "metadata": {},
   "outputs": [
    {
     "name": "stderr",
     "output_type": "stream",
     "text": [
      "/Users/Abby/anaconda/lib/python2.7/site-packages/matplotlib/font_manager.py:280: UserWarning: Matplotlib is building the font cache using fc-list. This may take a moment.\n",
      "  'Matplotlib is building the font cache using fc-list. '\n"
     ]
    }
   ],
   "source": [
    "import numpy as np\n",
    "import pandas as pd\n",
    "import matplotlib.pyplot as plt"
   ]
  },
  {
   "cell_type": "code",
   "execution_count": 16,
   "metadata": {},
   "outputs": [
    {
     "name": "stdout",
     "output_type": "stream",
     "text": [
      "kwon lab\n"
     ]
    }
   ],
   "source": [
    "print testvar"
   ]
  },
  {
   "cell_type": "code",
   "execution_count": 1,
   "metadata": {},
   "outputs": [
    {
     "data": {
      "text/plain": [
       "2"
      ]
     },
     "execution_count": 1,
     "metadata": {},
     "output_type": "execute_result"
    }
   ],
   "source": [
    "1 + 1"
   ]
  },
  {
   "cell_type": "code",
   "execution_count": 12,
   "metadata": {},
   "outputs": [
    {
     "name": "stdout",
     "output_type": "stream",
     "text": [
      "Hi, Abby nice to see you\n",
      "Hi, David nice to see you\n",
      "Hi, Meg nice to see you\n",
      "Hi, everyone\n"
     ]
    }
   ],
   "source": [
    "for whatever in ['Abby', 'David', 'Meg']:\n",
    "    print \"Hi,\", whatever, \"nice to see you\"\n",
    "print \"Hi, everyone\""
   ]
  },
  {
   "cell_type": "code",
   "execution_count": 15,
   "metadata": {
    "collapsed": true
   },
   "outputs": [],
   "source": [
    "testvar = \"kwon lab\""
   ]
  },
  {
   "cell_type": "code",
   "execution_count": 26,
   "metadata": {
    "collapsed": true
   },
   "outputs": [],
   "source": [
    "def addl(int_in):\n",
    "    added = int_in + 1\n",
    "    return added"
   ]
  },
  {
   "cell_type": "code",
   "execution_count": 29,
   "metadata": {},
   "outputs": [
    {
     "data": {
      "text/plain": [
       "11"
      ]
     },
     "execution_count": 29,
     "metadata": {},
     "output_type": "execute_result"
    }
   ],
   "source": [
    "addl(10)"
   ]
  },
  {
   "cell_type": "code",
   "execution_count": 43,
   "metadata": {},
   "outputs": [],
   "source": [
    "df = pd.read_csv('data.csv').set_index('Unnamed: 0')"
   ]
  },
  {
   "cell_type": "code",
   "execution_count": 45,
   "metadata": {},
   "outputs": [
    {
     "data": {
      "image/png": "[encoded data removed]",
      "text/plain": [
       "<matplotlib.figure.Figure at 0x118b4a190>"
      ]
     },
     "metadata": {},
     "output_type": "display_data"
    }
   ],
   "source": [
    "def prettify_ax(ax):\n",
    "    ''' Nifty function to make axes more pleasant to look at '''\n",
    "    for spine in ax.spines.itervalues():\n",
    "        spine.set_visible(False)\n",
    "    ax.set_frameon=True\n",
    "    ax.patch.set_facecolor('#eeeeef')\n",
    "    ax.grid('on', color='w', linestyle='-', linewidth=1)\n",
    "    ax.tick_params(direction='out')\n",
    "    ax.set_axisbelow(True)\n",
    "    \n",
    "def simple_ax(figsize=(6,4), **kwargs):\n",
    "    ''' Shortcut to make and 'prettify' a simple figure with 1 axis '''\n",
    "    fig = plt.figure(figsize=figsize)\n",
    "    ax = fig.add_subplot(111, **kwargs)\n",
    "    prettify_ax(ax)\n",
    "    return fig, ax\n",
    "\n",
    "def PCA(input_X, R=10, mean_center_input=False):\n",
    "    ''' run pca projection onto R dimensions '''\n",
    "    if mean_center_input:\n",
    "        input_X = (input_X.T - input_X.T.mean()).T \n",
    "    number_of_samples = input_X.shape[1]\n",
    "    eigs, V = np.linalg.eigh((1./number_of_samples) *  input_X.T.dot(input_X))\n",
    "    sort_order = (-eigs).argsort()\n",
    "    eigs = eigs[sort_order]\n",
    "    V = V[:, sort_order]\n",
    "    inv_sqrt_D_R = np.diag(1./np.sqrt(eigs[:R]))\n",
    "    V_R = V[:, :R]\n",
    "    U_R = input_X.dot(V_R).dot(inv_sqrt_D_R)/np.sqrt(number_of_samples)\n",
    "    P_R = U_R.T.dot(input_X)\n",
    "    P_R.index = ['PC%d'%s for s in range(1, R+1)]\n",
    "    return eigs, P_R\n",
    "\n",
    "def PCA_loadings(input_X, PCA_projection):\n",
    "    ''' determine loadings for a pca project and input data '''\n",
    "    whitened_PCA_projection = (PCA_projection.T/PCA_projection.std(1,ddof=0)).T\n",
    "    whitened_input_X = ((input_X.T - input_X.T.mean())/input_X.T.std(ddof=0)).T\n",
    "    number_of_genes, number_of_samples = whitened_input_X.shape\n",
    "    loadings = (1./number_of_samples)*whitened_input_X.dot(whitened_PCA_projection.T)\n",
    "    return loadings\n",
    "\n",
    "# run PCA and plot data\n",
    "pca_eigs, pca_P_R = PCA(df.T, R=3, mean_center_input=True)\n",
    "pc_fig, pc_ax = simple_ax(figsize=(12,8))\n",
    "pc_ax.scatter(pca_P_R.loc['PC1'], pca_P_R.loc['PC2'], edgecolor='w', s=50)\n",
    "pc_ax.set_xlabel('Principal Component 1')\n",
    "pc_ax.set_ylabel('Principal Component 2')\n",
    "pc_ax.set_title('Diet PCA')\n",
    "plt.show()"
   ]
  },
  {
   "cell_type": "code",
   "execution_count": null,
   "metadata": {
    "collapsed": true
   },
   "outputs": [],
   "source": []
  }
 ],
 "metadata": {
  "kernelspec": {
   "display_name": "Python 2",
   "language": "python",
   "name": "python2"
  },
  "language_info": {
   "codemirror_mode": {
    "name": "ipython",
    "version": 2
   },
   "file_extension": ".py",
   "mimetype": "text/x-python",
   "name": "python",
   "nbconvert_exporter": "python",
   "pygments_lexer": "ipython2",
   "version": "2.7.13"
  }
 },
 "nbformat": 4,
 "nbformat_minor": 2
}
